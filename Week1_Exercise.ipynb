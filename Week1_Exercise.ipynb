{
 "cells": [
  {
   "cell_type": "markdown",
   "metadata": {},
   "source": [
    "# Ecommerce Purchases Exercise\n",
    "\n",
    "In this Exercise you will be given some Fake Data about some purchases done through Amazon! Just go ahead and follow the directions and try your best to answer the questions and complete the tasks. Feel free to reference the solutions. Most of the tasks can be solved in different ways. For the most part, the questions get progressively harder.\n",
    "\n",
    "Please excuse anything that doesn't make \"Real-World\" sense in the dataframe, all the data is fake and made-up.\n",
    "\n",
    "Also note that all of these questions can be answered with one line of code.\n",
    "____\n",
    "** Import pandas and read in the Ecommerce Purchases csv file and set it to a DataFrame called ecom. **"
   ]
  },
  {
   "cell_type": "code",
   "execution_count": 1,
   "metadata": {},
   "outputs": [],
   "source": [
    "import pandas as pd"
   ]
  },
  {
   "cell_type": "code",
   "execution_count": 2,
   "metadata": {},
   "outputs": [],
   "source": [
    "ecom=pd.read_csv('./EcommercePurchases.csv')"
   ]
  },
  {
   "cell_type": "markdown",
   "metadata": {},
   "source": [
    "**Check the head of the DataFrame.**"
   ]
  },
  {
   "cell_type": "code",
   "execution_count": 3,
   "metadata": {},
   "outputs": [
    {
     "data": {
      "text/html": [
       "<div>\n",
       "<style scoped>\n",
       "    .dataframe tbody tr th:only-of-type {\n",
       "        vertical-align: middle;\n",
       "    }\n",
       "\n",
       "    .dataframe tbody tr th {\n",
       "        vertical-align: top;\n",
       "    }\n",
       "\n",
       "    .dataframe thead th {\n",
       "        text-align: right;\n",
       "    }\n",
       "</style>\n",
       "<table border=\"1\" class=\"dataframe\">\n",
       "  <thead>\n",
       "    <tr style=\"text-align: right;\">\n",
       "      <th></th>\n",
       "      <th>Address</th>\n",
       "      <th>Lot</th>\n",
       "      <th>AM or PM</th>\n",
       "      <th>Browser Info</th>\n",
       "      <th>Company</th>\n",
       "      <th>Credit Card</th>\n",
       "      <th>CC Exp Date</th>\n",
       "      <th>CC Security Code</th>\n",
       "      <th>CC Provider</th>\n",
       "      <th>Email</th>\n",
       "      <th>Job</th>\n",
       "      <th>IP Address</th>\n",
       "      <th>Language</th>\n",
       "      <th>Purchase Price</th>\n",
       "    </tr>\n",
       "  </thead>\n",
       "  <tbody>\n",
       "    <tr>\n",
       "      <th>0</th>\n",
       "      <td>16629 Pace Camp Apt. 448\\nAlexisborough, NE 77...</td>\n",
       "      <td>46 in</td>\n",
       "      <td>PM</td>\n",
       "      <td>Opera/9.56.(X11; Linux x86_64; sl-SI) Presto/2...</td>\n",
       "      <td>Martinez-Herman</td>\n",
       "      <td>6011929061123406</td>\n",
       "      <td>02/20</td>\n",
       "      <td>900</td>\n",
       "      <td>JCB 16 digit</td>\n",
       "      <td>pdunlap@yahoo.com</td>\n",
       "      <td>Scientist, product/process development</td>\n",
       "      <td>149.146.147.205</td>\n",
       "      <td>el</td>\n",
       "      <td>98.14</td>\n",
       "    </tr>\n",
       "    <tr>\n",
       "      <th>1</th>\n",
       "      <td>9374 Jasmine Spurs Suite 508\\nSouth John, TN 8...</td>\n",
       "      <td>28 rn</td>\n",
       "      <td>PM</td>\n",
       "      <td>Opera/8.93.(Windows 98; Win 9x 4.90; en-US) Pr...</td>\n",
       "      <td>Fletcher, Richards and Whitaker</td>\n",
       "      <td>3337758169645356</td>\n",
       "      <td>11/18</td>\n",
       "      <td>561</td>\n",
       "      <td>Mastercard</td>\n",
       "      <td>anthony41@reed.com</td>\n",
       "      <td>Drilling engineer</td>\n",
       "      <td>15.160.41.51</td>\n",
       "      <td>fr</td>\n",
       "      <td>70.73</td>\n",
       "    </tr>\n",
       "    <tr>\n",
       "      <th>2</th>\n",
       "      <td>Unit 0065 Box 5052\\nDPO AP 27450</td>\n",
       "      <td>94 vE</td>\n",
       "      <td>PM</td>\n",
       "      <td>Mozilla/5.0 (compatible; MSIE 9.0; Windows NT ...</td>\n",
       "      <td>Simpson, Williams and Pham</td>\n",
       "      <td>675957666125</td>\n",
       "      <td>08/19</td>\n",
       "      <td>699</td>\n",
       "      <td>JCB 16 digit</td>\n",
       "      <td>amymiller@morales-harrison.com</td>\n",
       "      <td>Customer service manager</td>\n",
       "      <td>132.207.160.22</td>\n",
       "      <td>de</td>\n",
       "      <td>0.95</td>\n",
       "    </tr>\n",
       "    <tr>\n",
       "      <th>3</th>\n",
       "      <td>7780 Julia Fords\\nNew Stacy, WA 45798</td>\n",
       "      <td>36 vm</td>\n",
       "      <td>PM</td>\n",
       "      <td>Mozilla/5.0 (Macintosh; Intel Mac OS X 10_8_0 ...</td>\n",
       "      <td>Williams, Marshall and Buchanan</td>\n",
       "      <td>6011578504430710</td>\n",
       "      <td>02/24</td>\n",
       "      <td>384</td>\n",
       "      <td>Discover</td>\n",
       "      <td>brent16@olson-robinson.info</td>\n",
       "      <td>Drilling engineer</td>\n",
       "      <td>30.250.74.19</td>\n",
       "      <td>es</td>\n",
       "      <td>78.04</td>\n",
       "    </tr>\n",
       "    <tr>\n",
       "      <th>4</th>\n",
       "      <td>23012 Munoz Drive Suite 337\\nNew Cynthia, TX 5...</td>\n",
       "      <td>20 IE</td>\n",
       "      <td>AM</td>\n",
       "      <td>Opera/9.58.(X11; Linux x86_64; it-IT) Presto/2...</td>\n",
       "      <td>Brown, Watson and Andrews</td>\n",
       "      <td>6011456623207998</td>\n",
       "      <td>10/25</td>\n",
       "      <td>678</td>\n",
       "      <td>Diners Club / Carte Blanche</td>\n",
       "      <td>christopherwright@gmail.com</td>\n",
       "      <td>Fine artist</td>\n",
       "      <td>24.140.33.94</td>\n",
       "      <td>es</td>\n",
       "      <td>77.82</td>\n",
       "    </tr>\n",
       "  </tbody>\n",
       "</table>\n",
       "</div>"
      ],
      "text/plain": [
       "                                             Address    Lot AM or PM  \\\n",
       "0  16629 Pace Camp Apt. 448\\nAlexisborough, NE 77...  46 in       PM   \n",
       "1  9374 Jasmine Spurs Suite 508\\nSouth John, TN 8...  28 rn       PM   \n",
       "2                   Unit 0065 Box 5052\\nDPO AP 27450  94 vE       PM   \n",
       "3              7780 Julia Fords\\nNew Stacy, WA 45798  36 vm       PM   \n",
       "4  23012 Munoz Drive Suite 337\\nNew Cynthia, TX 5...  20 IE       AM   \n",
       "\n",
       "                                        Browser Info  \\\n",
       "0  Opera/9.56.(X11; Linux x86_64; sl-SI) Presto/2...   \n",
       "1  Opera/8.93.(Windows 98; Win 9x 4.90; en-US) Pr...   \n",
       "2  Mozilla/5.0 (compatible; MSIE 9.0; Windows NT ...   \n",
       "3  Mozilla/5.0 (Macintosh; Intel Mac OS X 10_8_0 ...   \n",
       "4  Opera/9.58.(X11; Linux x86_64; it-IT) Presto/2...   \n",
       "\n",
       "                           Company       Credit Card CC Exp Date  \\\n",
       "0                  Martinez-Herman  6011929061123406       02/20   \n",
       "1  Fletcher, Richards and Whitaker  3337758169645356       11/18   \n",
       "2       Simpson, Williams and Pham      675957666125       08/19   \n",
       "3  Williams, Marshall and Buchanan  6011578504430710       02/24   \n",
       "4        Brown, Watson and Andrews  6011456623207998       10/25   \n",
       "\n",
       "   CC Security Code                  CC Provider  \\\n",
       "0               900                 JCB 16 digit   \n",
       "1               561                   Mastercard   \n",
       "2               699                 JCB 16 digit   \n",
       "3               384                     Discover   \n",
       "4               678  Diners Club / Carte Blanche   \n",
       "\n",
       "                            Email                                     Job  \\\n",
       "0               pdunlap@yahoo.com  Scientist, product/process development   \n",
       "1              anthony41@reed.com                       Drilling engineer   \n",
       "2  amymiller@morales-harrison.com                Customer service manager   \n",
       "3     brent16@olson-robinson.info                       Drilling engineer   \n",
       "4     christopherwright@gmail.com                             Fine artist   \n",
       "\n",
       "        IP Address Language  Purchase Price  \n",
       "0  149.146.147.205       el           98.14  \n",
       "1     15.160.41.51       fr           70.73  \n",
       "2   132.207.160.22       de            0.95  \n",
       "3     30.250.74.19       es           78.04  \n",
       "4     24.140.33.94       es           77.82  "
      ]
     },
     "execution_count": 3,
     "metadata": {},
     "output_type": "execute_result"
    }
   ],
   "source": [
    "ecom.head()"
   ]
  },
  {
   "cell_type": "markdown",
   "metadata": {},
   "source": [
    "** How many rows and columns are there? **"
   ]
  },
  {
   "cell_type": "code",
   "execution_count": 4,
   "metadata": {},
   "outputs": [
    {
     "name": "stdout",
     "output_type": "stream",
     "text": [
      "10000\n",
      "14\n"
     ]
    }
   ],
   "source": [
    "count_row = ecom.shape[0]  # gives number of row count\n",
    "count_col = ecom.shape[1]  # gives number of col count\n",
    "print(count_row) #10,000\n",
    "print(count_col) #14"
   ]
  },
  {
   "cell_type": "markdown",
   "metadata": {},
   "source": [
    "** What is the average Purchase Price? **"
   ]
  },
  {
   "cell_type": "code",
   "execution_count": 5,
   "metadata": {},
   "outputs": [
    {
     "data": {
      "text/plain": [
       "Purchase Price    50.347302\n",
       "dtype: float64"
      ]
     },
     "execution_count": 5,
     "metadata": {},
     "output_type": "execute_result"
    }
   ],
   "source": [
    "ecom[['Purchase Price']].mean()"
   ]
  },
  {
   "cell_type": "markdown",
   "metadata": {},
   "source": [
    "** What were the highest and lowest purchase prices? **"
   ]
  },
  {
   "cell_type": "code",
   "execution_count": 6,
   "metadata": {},
   "outputs": [
    {
     "data": {
      "text/plain": [
       "Purchase Price    99.99\n",
       "dtype: float64"
      ]
     },
     "execution_count": 6,
     "metadata": {},
     "output_type": "execute_result"
    }
   ],
   "source": [
    "ecom[['Purchase Price']].max()"
   ]
  },
  {
   "cell_type": "code",
   "execution_count": 10,
   "metadata": {},
   "outputs": [
    {
     "data": {
      "text/plain": [
       "Purchase Price    0.0\n",
       "dtype: float64"
      ]
     },
     "execution_count": 10,
     "metadata": {},
     "output_type": "execute_result"
    }
   ],
   "source": [
    "ecom[['Purchase Price']].min()"
   ]
  },
  {
   "cell_type": "markdown",
   "metadata": {},
   "source": [
    "** How many people have English 'en' as their Language of choice on the website? **"
   ]
  },
  {
   "cell_type": "code",
   "execution_count": 11,
   "metadata": {},
   "outputs": [
    {
     "data": {
      "text/plain": [
       "Address             1098\n",
       "Lot                 1096\n",
       "AM or PM               2\n",
       "Browser Info        1041\n",
       "Company             1071\n",
       "Credit Card         1098\n",
       "CC Exp Date          121\n",
       "CC Security Code     732\n",
       "CC Provider           10\n",
       "Email               1098\n",
       "Job                  518\n",
       "IP Address          1098\n",
       "Language               1\n",
       "Purchase Price      1047\n",
       "dtype: int64"
      ]
     },
     "execution_count": 11,
     "metadata": {},
     "output_type": "execute_result"
    }
   ],
   "source": [
    "ecom[(ecom['Language']=='en')].nunique()\n",
    "#1098"
   ]
  },
  {
   "cell_type": "markdown",
   "metadata": {},
   "source": [
    "** How many people have the job title of \"Lawyer\" ? **\n"
   ]
  },
  {
   "cell_type": "code",
   "execution_count": 12,
   "metadata": {},
   "outputs": [
    {
     "data": {
      "text/plain": [
       "Address             30\n",
       "Lot                 30\n",
       "AM or PM             2\n",
       "Browser Info        30\n",
       "Company             30\n",
       "Credit Card         30\n",
       "CC Exp Date         25\n",
       "CC Security Code    30\n",
       "CC Provider         10\n",
       "Email               30\n",
       "Job                  1\n",
       "IP Address          30\n",
       "Language             8\n",
       "Purchase Price      30\n",
       "dtype: int64"
      ]
     },
     "execution_count": 12,
     "metadata": {},
     "output_type": "execute_result"
    }
   ],
   "source": [
    "ecom[(ecom['Job']=='Lawyer')].nunique()\n",
    "#30"
   ]
  },
  {
   "cell_type": "markdown",
   "metadata": {},
   "source": [
    "** How many people made the purchase during the AM and how many people made the purchase during PM ? **\n",
    "\n",
    "**(Hint: Check out [value_counts()](http://pandas.pydata.org/pandas-docs/stable/generated/pandas.Series.value_counts.html) ) **"
   ]
  },
  {
   "cell_type": "code",
   "execution_count": 13,
   "metadata": {},
   "outputs": [
    {
     "data": {
      "text/plain": [
       "PM    5068\n",
       "AM    4932\n",
       "Name: AM or PM, dtype: int64"
      ]
     },
     "execution_count": 13,
     "metadata": {},
     "output_type": "execute_result"
    }
   ],
   "source": [
    "ecom['AM or PM'].value_counts()"
   ]
  },
  {
   "cell_type": "markdown",
   "metadata": {},
   "source": [
    "** What are the 5 most common Job Titles? **"
   ]
  },
  {
   "cell_type": "code",
   "execution_count": 14,
   "metadata": {},
   "outputs": [
    {
     "data": {
      "text/plain": [
       "Interior and spatial designer    31\n",
       "Lawyer                           30\n",
       "Social researcher                28\n",
       "Designer, jewellery              27\n",
       "Purchasing manager               27\n",
       "Name: Job, dtype: int64"
      ]
     },
     "execution_count": 14,
     "metadata": {},
     "output_type": "execute_result"
    }
   ],
   "source": [
    "(ecom['Job'].value_counts()).head()"
   ]
  },
  {
   "cell_type": "markdown",
   "metadata": {},
   "source": [
    "** Someone made a purchase that came from Lot: \"90 WT\" , what was the Purchase Price for this transaction? **"
   ]
  },
  {
   "cell_type": "code",
   "execution_count": 15,
   "metadata": {},
   "outputs": [
    {
     "data": {
      "text/plain": [
       "513    75.1\n",
       "Name: Purchase Price, dtype: float64"
      ]
     },
     "execution_count": 15,
     "metadata": {},
     "output_type": "execute_result"
    }
   ],
   "source": [
    "ecom[(ecom['Lot']=='90 WT')]['Purchase Price']"
   ]
  },
  {
   "cell_type": "markdown",
   "metadata": {},
   "source": [
    "** What is the email of the person with the following Credit Card Number: 4926535242672853 **"
   ]
  },
  {
   "cell_type": "code",
   "execution_count": 16,
   "metadata": {},
   "outputs": [
    {
     "data": {
      "text/plain": [
       "1234    bondellen@williams-garza.com\n",
       "Name: Email, dtype: object"
      ]
     },
     "execution_count": 16,
     "metadata": {},
     "output_type": "execute_result"
    }
   ],
   "source": [
    "ecom[(ecom['Credit Card']==4926535242672853)]['Email']"
   ]
  },
  {
   "cell_type": "markdown",
   "metadata": {},
   "source": [
    "** How many people have American Express as their Credit Card Provider *and* made a purchase above $95 ?**"
   ]
  },
  {
   "cell_type": "code",
   "execution_count": 17,
   "metadata": {},
   "outputs": [
    {
     "name": "stderr",
     "output_type": "stream",
     "text": [
      "C:\\Users\\lyun002\\AppData\\Local\\Continuum\\anaconda3\\lib\\site-packages\\ipykernel_launcher.py:1: UserWarning: Boolean Series key will be reindexed to match DataFrame index.\n",
      "  \"\"\"Entry point for launching an IPython kernel.\n"
     ]
    },
    {
     "data": {
      "text/plain": [
       "Address             39\n",
       "Lot                 39\n",
       "AM or PM             2\n",
       "Browser Info        39\n",
       "Company             39\n",
       "Credit Card         39\n",
       "CC Exp Date         36\n",
       "CC Security Code    38\n",
       "CC Provider          1\n",
       "Email               39\n",
       "Job                 36\n",
       "IP Address          39\n",
       "Language             9\n",
       "Purchase Price      38\n",
       "dtype: int64"
      ]
     },
     "execution_count": 17,
     "metadata": {},
     "output_type": "execute_result"
    }
   ],
   "source": [
    "ecom[(ecom['CC Provider']=='American Express')][(ecom['Purchase Price']>95)].nunique()\n",
    "#39"
   ]
  },
  {
   "cell_type": "markdown",
   "metadata": {},
   "source": [
    "** Hard: How many people have a credit card that expires in 2025? **"
   ]
  },
  {
   "cell_type": "code",
   "execution_count": 7,
   "metadata": {},
   "outputs": [
    {
     "data": {
      "text/plain": [
       "1033"
      ]
     },
     "execution_count": 7,
     "metadata": {},
     "output_type": "execute_result"
    }
   ],
   "source": [
    "CC_expiry = ecom['CC Exp Date']\n",
    "def check_CC_expiry(CC_expiry):\n",
    "    if '25' in CC_expiry:\n",
    "        return True\n",
    "    else:\n",
    "        return False\n",
    "\n",
    "sum(ecom['CC Exp Date'].apply(check_CC_expiry))"
   ]
  },
  {
   "cell_type": "markdown",
   "metadata": {},
   "source": [
    "** Hard: What are the top 5 most popular email providers/hosts (e.g. gmail.com, yahoo.com, etc...) **"
   ]
  },
  {
   "cell_type": "code",
   "execution_count": 8,
   "metadata": {},
   "outputs": [
    {
     "data": {
      "text/html": [
       "<div>\n",
       "<style scoped>\n",
       "    .dataframe tbody tr th:only-of-type {\n",
       "        vertical-align: middle;\n",
       "    }\n",
       "\n",
       "    .dataframe tbody tr th {\n",
       "        vertical-align: top;\n",
       "    }\n",
       "\n",
       "    .dataframe thead th {\n",
       "        text-align: right;\n",
       "    }\n",
       "</style>\n",
       "<table border=\"1\" class=\"dataframe\">\n",
       "  <thead>\n",
       "    <tr style=\"text-align: right;\">\n",
       "      <th></th>\n",
       "      <th>Address</th>\n",
       "      <th>Lot</th>\n",
       "      <th>AM or PM</th>\n",
       "      <th>Browser Info</th>\n",
       "      <th>Company</th>\n",
       "      <th>Credit Card</th>\n",
       "      <th>CC Exp Date</th>\n",
       "      <th>CC Security Code</th>\n",
       "      <th>CC Provider</th>\n",
       "      <th>Email</th>\n",
       "      <th>Job</th>\n",
       "      <th>IP Address</th>\n",
       "      <th>Language</th>\n",
       "      <th>Purchase Price</th>\n",
       "      <th>Email_1</th>\n",
       "      <th>Email_2</th>\n",
       "    </tr>\n",
       "  </thead>\n",
       "  <tbody>\n",
       "    <tr>\n",
       "      <th>0</th>\n",
       "      <td>16629 Pace Camp Apt. 448\\nAlexisborough, NE 77...</td>\n",
       "      <td>46 in</td>\n",
       "      <td>PM</td>\n",
       "      <td>Opera/9.56.(X11; Linux x86_64; sl-SI) Presto/2...</td>\n",
       "      <td>Martinez-Herman</td>\n",
       "      <td>6011929061123406</td>\n",
       "      <td>02/20</td>\n",
       "      <td>900</td>\n",
       "      <td>JCB 16 digit</td>\n",
       "      <td>pdunlap@yahoo.com</td>\n",
       "      <td>Scientist, product/process development</td>\n",
       "      <td>149.146.147.205</td>\n",
       "      <td>el</td>\n",
       "      <td>98.14</td>\n",
       "      <td>pdunlap</td>\n",
       "      <td>yahoo.com</td>\n",
       "    </tr>\n",
       "    <tr>\n",
       "      <th>1</th>\n",
       "      <td>9374 Jasmine Spurs Suite 508\\nSouth John, TN 8...</td>\n",
       "      <td>28 rn</td>\n",
       "      <td>PM</td>\n",
       "      <td>Opera/8.93.(Windows 98; Win 9x 4.90; en-US) Pr...</td>\n",
       "      <td>Fletcher, Richards and Whitaker</td>\n",
       "      <td>3337758169645356</td>\n",
       "      <td>11/18</td>\n",
       "      <td>561</td>\n",
       "      <td>Mastercard</td>\n",
       "      <td>anthony41@reed.com</td>\n",
       "      <td>Drilling engineer</td>\n",
       "      <td>15.160.41.51</td>\n",
       "      <td>fr</td>\n",
       "      <td>70.73</td>\n",
       "      <td>anthony41</td>\n",
       "      <td>reed.com</td>\n",
       "    </tr>\n",
       "    <tr>\n",
       "      <th>2</th>\n",
       "      <td>Unit 0065 Box 5052\\nDPO AP 27450</td>\n",
       "      <td>94 vE</td>\n",
       "      <td>PM</td>\n",
       "      <td>Mozilla/5.0 (compatible; MSIE 9.0; Windows NT ...</td>\n",
       "      <td>Simpson, Williams and Pham</td>\n",
       "      <td>675957666125</td>\n",
       "      <td>08/19</td>\n",
       "      <td>699</td>\n",
       "      <td>JCB 16 digit</td>\n",
       "      <td>amymiller@morales-harrison.com</td>\n",
       "      <td>Customer service manager</td>\n",
       "      <td>132.207.160.22</td>\n",
       "      <td>de</td>\n",
       "      <td>0.95</td>\n",
       "      <td>amymiller</td>\n",
       "      <td>morales-harrison.com</td>\n",
       "    </tr>\n",
       "    <tr>\n",
       "      <th>3</th>\n",
       "      <td>7780 Julia Fords\\nNew Stacy, WA 45798</td>\n",
       "      <td>36 vm</td>\n",
       "      <td>PM</td>\n",
       "      <td>Mozilla/5.0 (Macintosh; Intel Mac OS X 10_8_0 ...</td>\n",
       "      <td>Williams, Marshall and Buchanan</td>\n",
       "      <td>6011578504430710</td>\n",
       "      <td>02/24</td>\n",
       "      <td>384</td>\n",
       "      <td>Discover</td>\n",
       "      <td>brent16@olson-robinson.info</td>\n",
       "      <td>Drilling engineer</td>\n",
       "      <td>30.250.74.19</td>\n",
       "      <td>es</td>\n",
       "      <td>78.04</td>\n",
       "      <td>brent16</td>\n",
       "      <td>olson-robinson.info</td>\n",
       "    </tr>\n",
       "    <tr>\n",
       "      <th>4</th>\n",
       "      <td>23012 Munoz Drive Suite 337\\nNew Cynthia, TX 5...</td>\n",
       "      <td>20 IE</td>\n",
       "      <td>AM</td>\n",
       "      <td>Opera/9.58.(X11; Linux x86_64; it-IT) Presto/2...</td>\n",
       "      <td>Brown, Watson and Andrews</td>\n",
       "      <td>6011456623207998</td>\n",
       "      <td>10/25</td>\n",
       "      <td>678</td>\n",
       "      <td>Diners Club / Carte Blanche</td>\n",
       "      <td>christopherwright@gmail.com</td>\n",
       "      <td>Fine artist</td>\n",
       "      <td>24.140.33.94</td>\n",
       "      <td>es</td>\n",
       "      <td>77.82</td>\n",
       "      <td>christopherwright</td>\n",
       "      <td>gmail.com</td>\n",
       "    </tr>\n",
       "  </tbody>\n",
       "</table>\n",
       "</div>"
      ],
      "text/plain": [
       "                                             Address    Lot AM or PM  \\\n",
       "0  16629 Pace Camp Apt. 448\\nAlexisborough, NE 77...  46 in       PM   \n",
       "1  9374 Jasmine Spurs Suite 508\\nSouth John, TN 8...  28 rn       PM   \n",
       "2                   Unit 0065 Box 5052\\nDPO AP 27450  94 vE       PM   \n",
       "3              7780 Julia Fords\\nNew Stacy, WA 45798  36 vm       PM   \n",
       "4  23012 Munoz Drive Suite 337\\nNew Cynthia, TX 5...  20 IE       AM   \n",
       "\n",
       "                                        Browser Info  \\\n",
       "0  Opera/9.56.(X11; Linux x86_64; sl-SI) Presto/2...   \n",
       "1  Opera/8.93.(Windows 98; Win 9x 4.90; en-US) Pr...   \n",
       "2  Mozilla/5.0 (compatible; MSIE 9.0; Windows NT ...   \n",
       "3  Mozilla/5.0 (Macintosh; Intel Mac OS X 10_8_0 ...   \n",
       "4  Opera/9.58.(X11; Linux x86_64; it-IT) Presto/2...   \n",
       "\n",
       "                           Company       Credit Card CC Exp Date  \\\n",
       "0                  Martinez-Herman  6011929061123406       02/20   \n",
       "1  Fletcher, Richards and Whitaker  3337758169645356       11/18   \n",
       "2       Simpson, Williams and Pham      675957666125       08/19   \n",
       "3  Williams, Marshall and Buchanan  6011578504430710       02/24   \n",
       "4        Brown, Watson and Andrews  6011456623207998       10/25   \n",
       "\n",
       "   CC Security Code                  CC Provider  \\\n",
       "0               900                 JCB 16 digit   \n",
       "1               561                   Mastercard   \n",
       "2               699                 JCB 16 digit   \n",
       "3               384                     Discover   \n",
       "4               678  Diners Club / Carte Blanche   \n",
       "\n",
       "                            Email                                     Job  \\\n",
       "0               pdunlap@yahoo.com  Scientist, product/process development   \n",
       "1              anthony41@reed.com                       Drilling engineer   \n",
       "2  amymiller@morales-harrison.com                Customer service manager   \n",
       "3     brent16@olson-robinson.info                       Drilling engineer   \n",
       "4     christopherwright@gmail.com                             Fine artist   \n",
       "\n",
       "        IP Address Language  Purchase Price            Email_1  \\\n",
       "0  149.146.147.205       el           98.14            pdunlap   \n",
       "1     15.160.41.51       fr           70.73          anthony41   \n",
       "2   132.207.160.22       de            0.95          amymiller   \n",
       "3     30.250.74.19       es           78.04            brent16   \n",
       "4     24.140.33.94       es           77.82  christopherwright   \n",
       "\n",
       "                Email_2  \n",
       "0             yahoo.com  \n",
       "1              reed.com  \n",
       "2  morales-harrison.com  \n",
       "3   olson-robinson.info  \n",
       "4             gmail.com  "
      ]
     },
     "execution_count": 8,
     "metadata": {},
     "output_type": "execute_result"
    }
   ],
   "source": [
    "ecom[['Email_1','Email_2']]=ecom.Email.str.split(\"@\",expand=True,)\n",
    "\n",
    "ecom['Email_2'].value_counts().head()\n",
    "\n",
    "ecom.head()"
   ]
  },
  {
   "cell_type": "markdown",
   "metadata": {},
   "source": [
    "### Data Visualization\n",
    "\n",
    "** Implement a bar plot for top 5 most popular email providers/hosts **"
   ]
  },
  {
   "cell_type": "code",
   "execution_count": 9,
   "metadata": {},
   "outputs": [],
   "source": [
    "import seaborn as sns"
   ]
  },
  {
   "cell_type": "code",
   "execution_count": 10,
   "metadata": {},
   "outputs": [
    {
     "data": {
      "text/plain": [
       "<matplotlib.axes._subplots.AxesSubplot at 0x236eb0ff9b0>"
      ]
     },
     "execution_count": 10,
     "metadata": {},
     "output_type": "execute_result"
    },
    {
     "data": {
      "image/png": "[encoded data removed]",
      "text/plain": [
       "<Figure size 432x288 with 1 Axes>"
      ]
     },
     "metadata": {
      "needs_background": "light"
     },
     "output_type": "display_data"
    }
   ],
   "source": [
    "sns.countplot(x='Email_2',data=ecom, order=ecom.Email_2.value_counts().iloc[:5].index)"
   ]
  },
  {
   "cell_type": "markdown",
   "metadata": {},
   "source": [
    "** Plot distribution of Purchase Price **"
   ]
  },
  {
   "cell_type": "code",
   "execution_count": 14,
   "metadata": {},
   "outputs": [
    {
     "data": {
      "text/plain": [
       "<matplotlib.axes._subplots.AxesSubplot at 0x236eb36beb8>"
      ]
     },
     "execution_count": 14,
     "metadata": {},
     "output_type": "execute_result"
    },
    {
     "data": {
      "image/png": "[encoded data removed]",
      "text/plain": [
       "<Figure size 432x288 with 1 Axes>"
      ]
     },
     "metadata": {
      "needs_background": "light"
     },
     "output_type": "display_data"
    }
   ],
   "source": [
    "sns.distplot(ecom['Purchase Price'], hist=True, kde=False, \n",
    "             bins=int(180/5), color = 'blue',\n",
    "             hist_kws={'edgecolor':'black'})"
   ]
  },
  {
   "cell_type": "markdown",
   "metadata": {},
   "source": [
    "** Implement countplot on Language **"
   ]
  },
  {
   "cell_type": "code",
   "execution_count": 15,
   "metadata": {},
   "outputs": [
    {
     "data": {
      "text/plain": [
       "<matplotlib.axes._subplots.AxesSubplot at 0x236edd685c0>"
      ]
     },
     "execution_count": 15,
     "metadata": {},
     "output_type": "execute_result"
    },
    {
     "data": {
      "image/png": "[encoded data removed]",
      "text/plain": [
       "<Figure size 432x288 with 1 Axes>"
      ]
     },
     "metadata": {
      "needs_background": "light"
     },
     "output_type": "display_data"
    }
   ],
   "source": [
    "sns.countplot(x='Language',data=ecom,)"
   ]
  },
  {
   "cell_type": "code",
   "execution_count": null,
   "metadata": {},
   "outputs": [],
   "source": []
  },
  {
   "cell_type": "code",
   "execution_count": null,
   "metadata": {},
   "outputs": [],
   "source": [
    "Feel free to plot more graphs to dive deeper into the dataset."
   ]
  },
  {
   "cell_type": "markdown",
   "metadata": {},
   "source": [
    "# Great Job!"
   ]
  }
 ],
 "metadata": {
  "kernelspec": {
   "display_name": "Python 3",
   "language": "python",
   "name": "python3"
  },
  "language_info": {
   "codemirror_mode": {
    "name": "ipython",
    "version": 3
   },
   "file_extension": ".py",
   "mimetype": "text/x-python",
   "name": "python",
   "nbconvert_exporter": "python",
   "pygments_lexer": "ipython3",
   "version": "3.7.1"
  }
 },
 "nbformat": 4,
 "nbformat_minor": 1
}
